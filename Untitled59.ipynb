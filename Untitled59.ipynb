{
  "nbformat": 4,
  "nbformat_minor": 0,
  "metadata": {
    "colab": {
      "provenance": [],
      "authorship_tag": "ABX9TyONYW09DZ1ceszqQ4Lxy46y",
      "include_colab_link": true
    },
    "kernelspec": {
      "name": "python3",
      "display_name": "Python 3"
    },
    "language_info": {
      "name": "python"
    }
  },
  "cells": [
    {
      "cell_type": "markdown",
      "metadata": {
        "id": "view-in-github",
        "colab_type": "text"
      },
      "source": [
        "<a href=\"https://colab.research.google.com/github/aSafarpoor/test/blob/master/Untitled59.ipynb\" target=\"_parent\"><img src=\"https://colab.research.google.com/assets/colab-badge.svg\" alt=\"Open In Colab\"/></a>"
      ]
    },
    {
      "cell_type": "code",
      "execution_count": 3,
      "metadata": {
        "id": "sufekgcBaoE8"
      },
      "outputs": [],
      "source": [
        "import pickle\n",
        "import pandas as pd\n",
        "with open('regression_results.pkl', 'rb') as f:\n",
        "    data = pickle.load(f)"
      ]
    },
    {
      "cell_type": "code",
      "source": [
        "rows = []\n",
        "for (model, dataset, method, x1, x2), (mean, std) in data.items():\n",
        "    rows.append((model, dataset, method, x1, x2, float(mean), float(std)))\n",
        "\n",
        "df = pd.DataFrame(rows, columns=['Model', 'Dataset', 'Method', 'x1', 'x2', 'Mean', 'Std'])\n",
        "\n",
        "unique_x1 = df['x1'].unique()\n",
        "unique_x2 = df['x2'].unique()\n",
        "\n",
        "print(\"Unique x1 values:\", unique_x1)\n",
        "print(\"Unique x2 values:\", unique_x2)"
      ],
      "metadata": {
        "colab": {
          "base_uri": "https://localhost:8080/"
        },
        "id": "tDevrjTobB41",
        "outputId": "3362e486-04b0-4049-9bc6-08474b108197"
      },
      "execution_count": 24,
      "outputs": [
        {
          "output_type": "stream",
          "name": "stdout",
          "text": [
            "Unique x1 values: [0.01  0.001]\n",
            "Unique x2 values: [0.05 0.1  0.15 0.2 ]\n"
          ]
        }
      ]
    },
    {
      "cell_type": "code",
      "source": [
        "df = df.loc[df.groupby(['Model', 'Dataset', 'Method', 'x2'])['Mean'].idxmin().values]"
      ],
      "metadata": {
        "id": "mjRtUwdvbGcM"
      },
      "execution_count": 25,
      "outputs": []
    },
    {
      "cell_type": "code",
      "source": [
        "datasets = ['cora_ml', 'jazz']\n",
        "methods = ['LT', 'IC']\n",
        "\n",
        "subtables = {}\n",
        "\n",
        "for dataset in datasets:\n",
        "    for method in methods:\n",
        "        key = f\"{dataset}_{method}\"\n",
        "        subset = df[(df['Dataset'] == dataset) & (df['Method'] == method)].copy()\n",
        "        subset['Mean'] = subset['Mean'].round(4)\n",
        "        subset['Std'] = subset['Std'].round(4)\n",
        "        subset = subset.sort_values(by='x2')\n",
        "        subtables[key] = subset\n",
        "\n",
        "df_cora_ml_LT = subtables['cora_ml_LT']\n",
        "df_cora_ml_IC = subtables['cora_ml_IC']\n",
        "df_jazz_LT = subtables['jazz_LT']\n",
        "df_jazz_IC = subtables['jazz_IC']"
      ],
      "metadata": {
        "id": "t9-Fqm57cgdU"
      },
      "execution_count": 28,
      "outputs": []
    },
    {
      "cell_type": "code",
      "source": [
        "def print_custom_table(df, thick_every=6, decimals=4, title=None):\n",
        "    # Reset index (but keep all columns)\n",
        "    df = df.reset_index(drop=True)\n",
        "\n",
        "    # Optional title\n",
        "    if title:\n",
        "        print(f\"\\n{title}\")\n",
        "\n",
        "    # Format header\n",
        "    header = f\"{'Model':<10} {'Dataset':<10} {'Method':<8} {'seed rate':<6} {'Mean':<10} {'Std':<10}\"\n",
        "    print(header)\n",
        "    print('-' * len(header))\n",
        "\n",
        "    # Print rows\n",
        "    for i, row in df.iterrows():\n",
        "        print(f\"{row['Model']:<10} {row['Dataset']:<10} {row['Method']:<8} \"\n",
        "              f\"{str(row['x2']):<6} {row['Mean']:<10.{decimals}f} {row['Std']:<10.{decimals}f}\")\n",
        "        if (i + 1) % thick_every == 0:\n",
        "            print('=' * len(header))\n"
      ],
      "metadata": {
        "id": "cTFzkG6NiZCB"
      },
      "execution_count": 43,
      "outputs": []
    },
    {
      "cell_type": "code",
      "source": [
        "print_custom_table(df_cora_ml_LT)"
      ],
      "metadata": {
        "colab": {
          "base_uri": "https://localhost:8080/"
        },
        "id": "LKzYzjfEc6X0",
        "outputId": "9a1e3d59-7b6d-450c-9b08-060866b11227"
      },
      "execution_count": 44,
      "outputs": [
        {
          "output_type": "stream",
          "name": "stdout",
          "text": [
            "Model      Dataset    Method   seed rate Mean       Std       \n",
            "--------------------------------------------------------------\n",
            "GAT        cora_ml    LT       0.05   0.2214     0.0350    \n",
            "GCN        cora_ml    LT       0.05   0.2126     0.0320    \n",
            "HIRC_P     cora_ml    LT       0.05   0.2878     0.1560    \n",
            "HIRC_L     cora_ml    LT       0.05   0.2386     0.0625    \n",
            "Sage_Mean  cora_ml    LT       0.05   0.2289     0.0441    \n",
            "Sage_Max   cora_ml    LT       0.05   0.2035     0.0407    \n",
            "==============================================================\n",
            "HIRC_L     cora_ml    LT       0.1    0.4596     0.0622    \n",
            "HIRC_P     cora_ml    LT       0.1    0.4625     0.0986    \n",
            "Sage_Max   cora_ml    LT       0.1    0.4143     0.0568    \n",
            "Sage_Mean  cora_ml    LT       0.1    0.4048     0.0531    \n",
            "GCN        cora_ml    LT       0.1    0.2699     0.0074    \n",
            "GAT        cora_ml    LT       0.1    0.2916     0.0113    \n",
            "==============================================================\n",
            "HIRC_P     cora_ml    LT       0.15   0.4665     0.0335    \n",
            "HIRC_L     cora_ml    LT       0.15   0.4868     0.0536    \n",
            "GAT        cora_ml    LT       0.15   0.2997     0.0076    \n",
            "GCN        cora_ml    LT       0.15   0.2797     0.0062    \n",
            "Sage_Mean  cora_ml    LT       0.15   0.4508     0.0604    \n",
            "Sage_Max   cora_ml    LT       0.15   0.4815     0.0628    \n",
            "==============================================================\n",
            "GAT        cora_ml    LT       0.2    0.2689     0.0093    \n",
            "GCN        cora_ml    LT       0.2    0.2570     0.0204    \n",
            "HIRC_P     cora_ml    LT       0.2    0.3799     0.0868    \n",
            "HIRC_L     cora_ml    LT       0.2    0.3388     0.0188    \n",
            "Sage_Max   cora_ml    LT       0.2    0.3502     0.0343    \n",
            "Sage_Mean  cora_ml    LT       0.2    0.3574     0.0473    \n",
            "==============================================================\n"
          ]
        }
      ]
    },
    {
      "cell_type": "code",
      "source": [
        "print_custom_table(df_cora_ml_IC)"
      ],
      "metadata": {
        "colab": {
          "base_uri": "https://localhost:8080/"
        },
        "id": "oR69J2Rjday4",
        "outputId": "b2a9dad7-0937-40c7-cbd6-7266de3215fe"
      },
      "execution_count": 45,
      "outputs": [
        {
          "output_type": "stream",
          "name": "stdout",
          "text": [
            "Model      Dataset    Method   seed rate Mean       Std       \n",
            "--------------------------------------------------------------\n",
            "GAT        cora_ml    IC       0.05   0.0871     0.0123    \n",
            "GCN        cora_ml    IC       0.05   0.1098     0.0027    \n",
            "HIRC_P     cora_ml    IC       0.05   0.0886     0.0019    \n",
            "HIRC_L     cora_ml    IC       0.05   0.0889     0.0013    \n",
            "Sage_Mean  cora_ml    IC       0.05   0.0888     0.0017    \n",
            "Sage_Max   cora_ml    IC       0.05   0.0879     0.0017    \n",
            "==============================================================\n",
            "HIRC_L     cora_ml    IC       0.1    0.1709     0.0010    \n",
            "HIRC_P     cora_ml    IC       0.1    0.1676     0.0048    \n",
            "Sage_Max   cora_ml    IC       0.1    0.1680     0.0032    \n",
            "Sage_Mean  cora_ml    IC       0.1    0.1687     0.0026    \n",
            "GCN        cora_ml    IC       0.1    0.1685     0.0038    \n",
            "GAT        cora_ml    IC       0.1    0.1455     0.0064    \n",
            "==============================================================\n",
            "HIRC_P     cora_ml    IC       0.15   0.2417     0.0035    \n",
            "HIRC_L     cora_ml    IC       0.15   0.2421     0.0023    \n",
            "GAT        cora_ml    IC       0.15   0.1716     0.0046    \n",
            "GCN        cora_ml    IC       0.15   0.1494     0.0037    \n",
            "Sage_Mean  cora_ml    IC       0.15   0.2399     0.0024    \n",
            "Sage_Max   cora_ml    IC       0.15   0.2504     0.0195    \n",
            "==============================================================\n",
            "GAT        cora_ml    IC       0.2    0.1914     0.0064    \n",
            "GCN        cora_ml    IC       0.2    0.1631     0.0046    \n",
            "HIRC_P     cora_ml    IC       0.2    0.3418     0.0792    \n",
            "HIRC_L     cora_ml    IC       0.2    0.3331     0.0904    \n",
            "Sage_Max   cora_ml    IC       0.2    0.3321     0.0578    \n",
            "Sage_Mean  cora_ml    IC       0.2    0.3220     0.0217    \n",
            "==============================================================\n"
          ]
        }
      ]
    },
    {
      "cell_type": "code",
      "source": [
        "print_custom_table(df_jazz_LT)"
      ],
      "metadata": {
        "colab": {
          "base_uri": "https://localhost:8080/"
        },
        "id": "MfW67LgUeI5_",
        "outputId": "ea043c1c-f062-4a1b-df5b-d7a8c7d10bf3"
      },
      "execution_count": 46,
      "outputs": [
        {
          "output_type": "stream",
          "name": "stdout",
          "text": [
            "Model      Dataset    Method   seed rate Mean       Std       \n",
            "--------------------------------------------------------------\n",
            "GAT        jazz       LT       0.05   0.2522     0.0648    \n",
            "GCN        jazz       LT       0.05   0.2657     0.0739    \n",
            "HIRC_P     jazz       LT       0.05   0.2596     0.0506    \n",
            "HIRC_L     jazz       LT       0.05   0.2418     0.0678    \n",
            "Sage_Mean  jazz       LT       0.05   0.2470     0.0486    \n",
            "Sage_Max   jazz       LT       0.05   0.2326     0.0523    \n",
            "==============================================================\n",
            "HIRC_L     jazz       LT       0.1    0.2388     0.0760    \n",
            "HIRC_P     jazz       LT       0.1    0.2334     0.0658    \n",
            "Sage_Max   jazz       LT       0.1    0.2391     0.0432    \n",
            "Sage_Mean  jazz       LT       0.1    0.2491     0.0520    \n",
            "GCN        jazz       LT       0.1    0.2261     0.0486    \n",
            "GAT        jazz       LT       0.1    0.2633     0.0409    \n",
            "==============================================================\n",
            "HIRC_P     jazz       LT       0.15   0.1606     0.0743    \n",
            "HIRC_L     jazz       LT       0.15   0.1965     0.0629    \n",
            "GAT        jazz       LT       0.15   0.1657     0.0841    \n",
            "GCN        jazz       LT       0.15   0.1652     0.0777    \n",
            "Sage_Mean  jazz       LT       0.15   0.1774     0.0704    \n",
            "Sage_Max   jazz       LT       0.15   0.2089     0.0934    \n",
            "==============================================================\n",
            "GAT        jazz       LT       0.2    0.1339     0.0759    \n",
            "GCN        jazz       LT       0.2    0.1368     0.0706    \n",
            "HIRC_P     jazz       LT       0.2    0.1224     0.0877    \n",
            "HIRC_L     jazz       LT       0.2    0.1389     0.0946    \n",
            "Sage_Max   jazz       LT       0.2    0.1427     0.0875    \n",
            "Sage_Mean  jazz       LT       0.2    0.1235     0.0828    \n",
            "==============================================================\n"
          ]
        }
      ]
    },
    {
      "cell_type": "code",
      "source": [
        "print_custom_table(df_jazz_IC)"
      ],
      "metadata": {
        "colab": {
          "base_uri": "https://localhost:8080/"
        },
        "id": "_FCsmFE_eKwD",
        "outputId": "0a0fe8da-c3f3-4c14-ea8b-2d9a931ac4a1"
      },
      "execution_count": 47,
      "outputs": [
        {
          "output_type": "stream",
          "name": "stdout",
          "text": [
            "Model      Dataset    Method   seed rate Mean       Std       \n",
            "--------------------------------------------------------------\n",
            "GAT        jazz       IC       0.05   0.0587     0.0081    \n",
            "GCN        jazz       IC       0.05   0.0567     0.0035    \n",
            "HIRC_P     jazz       IC       0.05   0.0583     0.0119    \n",
            "HIRC_L     jazz       IC       0.05   0.0624     0.0118    \n",
            "Sage_Mean  jazz       IC       0.05   0.0769     0.0075    \n",
            "Sage_Max   jazz       IC       0.05   0.0722     0.0067    \n",
            "==============================================================\n",
            "HIRC_L     jazz       IC       0.1    0.0829     0.0117    \n",
            "HIRC_P     jazz       IC       0.1    0.0807     0.0070    \n",
            "Sage_Max   jazz       IC       0.1    0.1142     0.0127    \n",
            "Sage_Mean  jazz       IC       0.1    0.1159     0.0076    \n",
            "GCN        jazz       IC       0.1    0.0846     0.0077    \n",
            "GAT        jazz       IC       0.1    0.0843     0.0074    \n",
            "==============================================================\n",
            "HIRC_P     jazz       IC       0.15   0.0941     0.0082    \n",
            "HIRC_L     jazz       IC       0.15   0.0892     0.0082    \n",
            "GAT        jazz       IC       0.15   0.0978     0.0114    \n",
            "GCN        jazz       IC       0.15   0.0971     0.0125    \n",
            "Sage_Mean  jazz       IC       0.15   0.1423     0.0083    \n",
            "Sage_Max   jazz       IC       0.15   0.1432     0.0101    \n",
            "==============================================================\n",
            "GAT        jazz       IC       0.2    0.1125     0.0183    \n",
            "GCN        jazz       IC       0.2    0.0950     0.0086    \n",
            "HIRC_P     jazz       IC       0.2    0.1072     0.0090    \n",
            "HIRC_L     jazz       IC       0.2    0.1054     0.0084    \n",
            "Sage_Max   jazz       IC       0.2    0.1574     0.0143    \n",
            "Sage_Mean  jazz       IC       0.2    0.1595     0.0124    \n",
            "==============================================================\n"
          ]
        }
      ]
    },
    {
      "cell_type": "code",
      "source": [],
      "metadata": {
        "id": "6Gi1mysaeMXI"
      },
      "execution_count": null,
      "outputs": []
    }
  ]
}